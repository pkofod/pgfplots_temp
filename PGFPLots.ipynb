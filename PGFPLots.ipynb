{
 "cells": [
  {
   "cell_type": "code",
   "execution_count": null,
   "metadata": {
    "collapsed": false
   },
   "outputs": [
    {
     "name": "stderr",
     "output_type": "stream",
     "text": [
      "INFO: Recompiling stale cache file /home/pkm/.julia/lib/v0.4/Plots.ji for module Plots.\n"
     ]
    }
   ],
   "source": [
    "using Plots\n",
    "using LaTeXStrings\n",
    "pgfplots()\n",
    "n = 10\n",
    "x = rand(n)\n",
    "y = dot(linspace(0,10,n), x) + randn(n)\n",
    "\n",
    "prm = sortperm(x)\n",
    "x_sorted = x[prm]\n",
    "y_sorted = y[prm]"
   ]
  },
  {
   "cell_type": "code",
   "execution_count": null,
   "metadata": {
    "collapsed": false
   },
   "outputs": [],
   "source": [
    "bar(rand(20), m=(10,0.4,:sq,:red,stroke(:blue)), l=:green, f=(0.3,:yellow))"
   ]
  },
  {
   "cell_type": "code",
   "execution_count": null,
   "metadata": {
    "collapsed": false
   },
   "outputs": [],
   "source": [
    "plot(x = x, y = y, linestyle = :dot, seriescolor=:black, linewidth=1)"
   ]
  },
  {
   "cell_type": "code",
   "execution_count": null,
   "metadata": {
    "collapsed": false
   },
   "outputs": [],
   "source": [
    "# Plot sorted\n",
    "plot(x = x_sorted, y = y_sorted, yscale = :ln, linewidth=10)"
   ]
  },
  {
   "cell_type": "code",
   "execution_count": null,
   "metadata": {
    "collapsed": false
   },
   "outputs": [],
   "source": [
    "plot(x = x_sorted, y = y_sorted, yscale = :log, mark=:rect,markercolor=:red)"
   ]
  },
  {
   "cell_type": "code",
   "execution_count": null,
   "metadata": {
    "collapsed": false,
    "scrolled": true
   },
   "outputs": [],
   "source": [
    "# Plot line (auto sort)\n",
    "\n",
    "pp=plot(x = x, y = y, lt=:path,marker=:rect, linecolor=:red,linestyle=:dashdot,linealpha=1., markeralpha=.1, markercolor=:black, linecolor=:red,\n",
    "markerstrokecolor=:orange)"
   ]
  },
  {
   "cell_type": "code",
   "execution_count": null,
   "metadata": {
    "collapsed": false
   },
   "outputs": [],
   "source": [
    "# Scatter plot\n",
    "scatter(x = x, y = y, mark = :pentagon, background_color=:black)"
   ]
  },
  {
   "cell_type": "code",
   "execution_count": null,
   "metadata": {
    "collapsed": false
   },
   "outputs": [],
   "source": [
    "# Step pre I\n",
    "plot(x = x, y = y, lt = :steppre, markershape=:sq, seriescolor=:red, seriesalpha=0.3)"
   ]
  },
  {
   "cell_type": "code",
   "execution_count": null,
   "metadata": {
    "collapsed": false
   },
   "outputs": [],
   "source": [
    "# Step pre II\n",
    "plot(x = x_sorted, y = y_sorted, lt = :steppre, marker=:dtriangle)"
   ]
  },
  {
   "cell_type": "code",
   "execution_count": null,
   "metadata": {
    "collapsed": false
   },
   "outputs": [],
   "source": [
    "# Step mid I\n",
    "plot(x = x, y = y, lt = :stepmid, mark = :square)"
   ]
  },
  {
   "cell_type": "code",
   "execution_count": null,
   "metadata": {
    "collapsed": false
   },
   "outputs": [],
   "source": [
    "# Step mid II\n",
    "plot(x = x_sorted, y = y_sorted, lt = :stepmid)"
   ]
  },
  {
   "cell_type": "code",
   "execution_count": null,
   "metadata": {
    "collapsed": false,
    "scrolled": true
   },
   "outputs": [],
   "source": [
    "# Step post I\n",
    "plot(x = x, y = y, lt = :steppost)"
   ]
  },
  {
   "cell_type": "code",
   "execution_count": null,
   "metadata": {
    "collapsed": false
   },
   "outputs": [],
   "source": [
    "# Step post II\n",
    "plot(x = x_sorted, y = y_sorted, lt = :steppost)"
   ]
  },
  {
   "cell_type": "code",
   "execution_count": null,
   "metadata": {
    "collapsed": false
   },
   "outputs": [],
   "source": [
    "# Histrogram\n",
    "xx = randn(100)\n",
    "plot(xx, lt=:hist)"
   ]
  },
  {
   "cell_type": "code",
   "execution_count": null,
   "metadata": {
    "collapsed": false
   },
   "outputs": [],
   "source": [
    "# Histrogram\n",
    "xx = randn(100)\n",
    "plot(xx, lt=:hist, linecolor = :green,fillalpha = 0.3, fillcolor=:red)"
   ]
  },
  {
   "cell_type": "code",
   "execution_count": null,
   "metadata": {
    "collapsed": false
   },
   "outputs": [],
   "source": [
    "# Bar plot\n",
    "plot(x = 1:10, y = rand(10), lt = :bar)"
   ]
  },
  {
   "cell_type": "code",
   "execution_count": null,
   "metadata": {
    "collapsed": false
   },
   "outputs": [],
   "source": [
    "# 2D histogram\n",
    "xhist = randn(10000)\n",
    "yhist = randn(10000)\n",
    "plot(x = xhist, y = yhist, lt=:hist2d)"
   ]
  },
  {
   "cell_type": "code",
   "execution_count": null,
   "metadata": {
    "collapsed": false
   },
   "outputs": [],
   "source": [
    "# Multiple lines I\n",
    "plot(x = [x x_sorted], y = [y y_sorted])"
   ]
  },
  {
   "cell_type": "code",
   "execution_count": null,
   "metadata": {
    "collapsed": false
   },
   "outputs": [],
   "source": [
    "# Multiple lines II\n",
    "mp = plot(x = x, y = y, marker=:+)\n",
    "plot!(mp, x = x_sorted, y = y_sorted)"
   ]
  },
  {
   "cell_type": "code",
   "execution_count": null,
   "metadata": {
    "collapsed": false
   },
   "outputs": [],
   "source": [
    "# Multiple lines III\n",
    "mp = plot(x = x, y = y)\n",
    "plot!(x = 0.:.1:0.9, y = rand(10)*20, lt = :bar)"
   ]
  },
  {
   "cell_type": "code",
   "execution_count": null,
   "metadata": {
    "collapsed": false
   },
   "outputs": [],
   "source": [
    "# Labels normal text\n",
    "plot(x = x, y = x_sorted, xlabel = \"unsorted x\", ylabel = \"sorted x\", title = \"My Plot\")\n",
    "abline!(1.,0)"
   ]
  },
  {
   "cell_type": "code",
   "execution_count": null,
   "metadata": {
    "collapsed": false
   },
   "outputs": [],
   "source": [
    "# Labels LaTeX text\n",
    "plot(x = x, y = x_sorted, xlabel = L\"unsorted $x$\", ylabel = L\"sorted $x$\", title = \"My Plot\")\n",
    "abline!(1.,0)"
   ]
  },
  {
   "cell_type": "code",
   "execution_count": null,
   "metadata": {
    "collapsed": false
   },
   "outputs": [],
   "source": [
    "m = 150\n",
    "ts = linspace(0,8π,m)\n",
    "x = ts .* map(cos,ts)\n",
    "y = (0.1ts) .* map(sin,ts)\n",
    "z = 1:m"
   ]
  },
  {
   "cell_type": "code",
   "execution_count": null,
   "metadata": {
    "collapsed": false
   },
   "outputs": [],
   "source": [
    "p=plot(x, y, z; mark = :x)\n",
    "#PGFPlots.Linear3(x, y, z)\n",
    "#@show size(x), size(y), size(z)"
   ]
  },
  {
   "cell_type": "code",
   "execution_count": null,
   "metadata": {
    "collapsed": false
   },
   "outputs": [],
   "source": [
    "plot(x, y, lt=:ysticks)"
   ]
  },
  {
   "cell_type": "code",
   "execution_count": null,
   "metadata": {
    "collapsed": false
   },
   "outputs": [],
   "source": [
    "plot(x, y, lt=:xsticks)"
   ]
  },
  {
   "cell_type": "code",
   "execution_count": null,
   "metadata": {
    "collapsed": false,
    "scrolled": true
   },
   "outputs": [],
   "source": [
    "f = (x,y)->x*exp(-x^2-y^2)\n",
    "fp = plot([-2:.1:2;], [-2:.1:2;], f, lt=:contour)"
   ]
  },
  {
   "cell_type": "code",
   "execution_count": null,
   "metadata": {
    "collapsed": false
   },
   "outputs": [],
   "source": []
  },
  {
   "cell_type": "code",
   "execution_count": null,
   "metadata": {
    "collapsed": true
   },
   "outputs": [],
   "source": []
  }
 ],
 "metadata": {
  "kernelspec": {
   "display_name": "Julia 0.4.4-pre",
   "language": "julia",
   "name": "julia-0.4"
  },
  "language_info": {
   "file_extension": ".jl",
   "mimetype": "application/julia",
   "name": "julia",
   "version": "0.4.6"
  }
 },
 "nbformat": 4,
 "nbformat_minor": 0
}
